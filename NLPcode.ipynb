{
 "cells": [
  {
   "cell_type": "code",
   "execution_count": 5,
   "id": "ee0605d9-0b46-498b-916f-2ddf745effd0",
   "metadata": {},
   "outputs": [
    {
     "name": "stdout",
     "output_type": "stream",
     "text": [
      "Detected Language: es\n",
      "Translated Text: Natural language processing between languages allows machines to understand and process text in multiple languages.\n"
     ]
    }
   ],
   "source": [
    "from langid.langid import LanguageIdentifier, model\n",
    "from translate import Translator\n",
    "\n",
    "def detect_language(text):\n",
    "    # Identify the language of the input text\n",
    "    identifier = LanguageIdentifier.from_modelstring(model, norm_probs=True)\n",
    "    lang = identifier.classify(text)[0]\n",
    "    return lang\n",
    "\n",
    "def translate_text(text, target_language='en', source_language=None):\n",
    "    # Translate the text to the specified target language\n",
    "    translator = Translator(to_lang=target_language, from_lang=source_language)\n",
    "    translation = translator.translate(text)\n",
    "    return translation\n",
    "\n",
    "# Sample text for language identification and translation\n",
    "text_to_translate = \"El procesamiento de lenguaje natural entre idiomas permite a las máquinas entender y procesar texto en varios idiomas.\"\n",
    "\n",
    "# Detect language\n",
    "detected_language = detect_language(text_to_translate)\n",
    "\n",
    "# Translate to English\n",
    "translated_text = translate_text(text_to_translate, target_language='en', source_language=detected_language)\n",
    "\n",
    "print(\"Detected Language:\", detected_language)\n",
    "print(\"Translated Text:\", translated_text)\n"
   ]
  },
  {
   "cell_type": "code",
   "execution_count": null,
   "id": "46ea6bae-d69e-4e2d-82e3-09b1a80527bd",
   "metadata": {},
   "outputs": [],
   "source": []
  }
 ],
 "metadata": {
  "kernelspec": {
   "display_name": "Python 3 (ipykernel)",
   "language": "python",
   "name": "python3"
  },
  "language_info": {
   "codemirror_mode": {
    "name": "ipython",
    "version": 3
   },
   "file_extension": ".py",
   "mimetype": "text/x-python",
   "name": "python",
   "nbconvert_exporter": "python",
   "pygments_lexer": "ipython3",
   "version": "3.12.0"
  }
 },
 "nbformat": 4,
 "nbformat_minor": 5
}
